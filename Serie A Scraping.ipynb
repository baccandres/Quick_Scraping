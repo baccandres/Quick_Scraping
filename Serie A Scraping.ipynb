{
 "cells": [
  {
   "cell_type": "code",
   "execution_count": 1,
   "id": "97c88572",
   "metadata": {},
   "outputs": [],
   "source": [
    "import requests\n",
    "from selenium import webdriver\n",
    "from time import sleep\n",
    "from selenium.webdriver.chrome.options import Options\n",
    "from webdriver_manager.chrome import ChromeDriverManager\n",
    "import pandas as pd\n",
    "import numpy as np\n",
    "import re"
   ]
  },
  {
   "cell_type": "code",
   "execution_count": 2,
   "id": "80e78eaa",
   "metadata": {},
   "outputs": [],
   "source": [
    "opts= Options()\n",
    "opts.add_experimental_option('excludeSwitches', ['enable-automation'])\n",
    "opts.add_experimental_option('useAutomationExtension', False)\n",
    "opts.add_argument('--start-maximized') \n",
    "opts.add_argument('user.data-dir=selenium') \n",
    "#opts.add_argument('drive/adblock.crx') \n",
    "opts.add_argument('--incognito')"
   ]
  },
  {
   "cell_type": "code",
   "execution_count": 3,
   "id": "9e761d21",
   "metadata": {
    "collapsed": true
   },
   "outputs": [
    {
     "name": "stderr",
     "output_type": "stream",
     "text": [
      "\n",
      "\n",
      "====== WebDriver manager ======\n",
      "Current google-chrome version is 96.0.4664\n",
      "Get LATEST chromedriver version for 96.0.4664 google-chrome\n",
      "Driver [/Users/baccandres/.wdm/drivers/chromedriver/mac64/96.0.4664.45/chromedriver] found in cache\n",
      "/var/folders/xv/v29gqxhs4b5gth_lvdz9tgl80000gn/T/ipykernel_3752/1996998481.py:1: DeprecationWarning: executable_path has been deprecated, please pass in a Service object\n",
      "  driver = webdriver.Chrome(ChromeDriverManager().install())\n",
      "/var/folders/xv/v29gqxhs4b5gth_lvdz9tgl80000gn/T/ipykernel_3752/1996998481.py:6: DeprecationWarning: find_element_by_* commands are deprecated. Please use find_element() instead\n",
      "  driver.find_element_by_css_selector('#onetrust-accept-btn-handler').click()\n",
      "/var/folders/xv/v29gqxhs4b5gth_lvdz9tgl80000gn/T/ipykernel_3752/1996998481.py:13: DeprecationWarning: find_element_by_* commands are deprecated. Please use find_element() instead\n",
      "  tmp = driver.find_element_by_css_selector('#fittPageContainer > div:nth-child(4) > div > div > section > div > section > section > div.standings__table > div').get_attribute('outerHTML')\n"
     ]
    }
   ],
   "source": [
    "driver = webdriver.Chrome(ChromeDriverManager().install())\n",
    "driver.get('https://www.espn.com/soccer/standings/_/league/ita.1')\n",
    "driver.implicitly_wait(5)\n",
    "\n",
    "#accept cookies:\n",
    "driver.find_element_by_css_selector('#onetrust-accept-btn-handler').click()\n",
    "\n",
    "standings = []\n",
    "\n",
    "for i in range(2003, 2021):\n",
    "    try:\n",
    "        driver.get(f\"https://www.espn.com/soccer/standings/_/league/ITA.1/season/{i}\")\n",
    "        tmp = driver.find_element_by_css_selector('#fittPageContainer > div:nth-child(4) > div > div > section > div > section > section > div.standings__table > div').get_attribute('outerHTML')\n",
    "        standings.append(pd.read_html(tmp))\n",
    "    except:\n",
    "        standings.append('unavailable')"
   ]
  },
  {
   "cell_type": "code",
   "execution_count": 4,
   "id": "1c9a8105",
   "metadata": {},
   "outputs": [],
   "source": [
    "standings_dfs = []\n",
    "\n",
    "for i in range(len(standings)):\n",
    "    standings_dfs.append(pd.concat([standings[i][0], standings[i][1]], axis=1))"
   ]
  },
  {
   "cell_type": "code",
   "execution_count": 5,
   "id": "cd472f44",
   "metadata": {},
   "outputs": [],
   "source": [
    "for i in range(len(standings_dfs)):\n",
    "    for x in range(2003, 2021):\n",
    "        standings_dfs[i]['Campaign'] = standings_dfs[i].columns[0][:4]"
   ]
  },
  {
   "cell_type": "code",
   "execution_count": 6,
   "id": "e297d73b",
   "metadata": {},
   "outputs": [],
   "source": [
    "for i in range(len(standings_dfs)):\n",
    "    standings_dfs[i].columns = ['Teams', 'GP', 'W', 'D', 'L', 'F','A', 'GD', 'P', 'Campaign']"
   ]
  },
  {
   "cell_type": "code",
   "execution_count": 8,
   "id": "362397cf",
   "metadata": {},
   "outputs": [],
   "source": [
    "df_standings = pd.concat(standings_dfs)"
   ]
  },
  {
   "cell_type": "code",
   "execution_count": 9,
   "id": "fe45acc6",
   "metadata": {},
   "outputs": [],
   "source": [
    "def acronym (x):\n",
    "    return \"\".join(re.split('[^a-zA-Z]*', x))[:3]"
   ]
  },
  {
   "cell_type": "code",
   "execution_count": 10,
   "id": "6c7f19b3",
   "metadata": {},
   "outputs": [],
   "source": [
    "df_standings['Teams'] = df_standings['Teams'].apply(acronym)"
   ]
  },
  {
   "cell_type": "code",
   "execution_count": 11,
   "id": "9cb2fef2",
   "metadata": {},
   "outputs": [
    {
     "data": {
      "text/plain": [
       "44    15\n",
       "45    14\n",
       "43    14\n",
       "42    14\n",
       "46    14\n",
       "      ..\n",
       "75     1\n",
       "14     1\n",
       "27     1\n",
       "16     1\n",
       "23     1\n",
       "Name: P, Length: 80, dtype: int64"
      ]
     },
     "execution_count": 11,
     "metadata": {},
     "output_type": "execute_result"
    }
   ],
   "source": [
    "df_standings = df_standings[['Campaign','Teams', 'GP', 'W', 'D', 'L', 'F','A', 'GD', 'P']]\n",
    "df_standings = df_standings.dropna().reset_index(drop=True)\n",
    "df_standings.P.value_counts()"
   ]
  },
  {
   "cell_type": "code",
   "execution_count": 12,
   "id": "bef5041f",
   "metadata": {},
   "outputs": [],
   "source": [
    "df_standings.to_csv('Standings.csv')"
   ]
  }
 ],
 "metadata": {
  "kernelspec": {
   "display_name": "ironhack",
   "language": "python",
   "name": "ironhack"
  },
  "language_info": {
   "codemirror_mode": {
    "name": "ipython",
    "version": 3
   },
   "file_extension": ".py",
   "mimetype": "text/x-python",
   "name": "python",
   "nbconvert_exporter": "python",
   "pygments_lexer": "ipython3",
   "version": "3.9.7"
  }
 },
 "nbformat": 4,
 "nbformat_minor": 5
}
