{
 "cells": [
  {
   "cell_type": "code",
   "execution_count": 104,
   "id": "97c88572",
   "metadata": {},
   "outputs": [],
   "source": [
    "import requests\n",
    "from selenium import webdriver\n",
    "from time import sleep\n",
    "from selenium.webdriver.chrome.options import Options\n",
    "from webdriver_manager.chrome import ChromeDriverManager\n",
    "import pandas as pd\n",
    "import numpy as np\n",
    "import re"
   ]
  },
  {
   "cell_type": "code",
   "execution_count": 11,
   "id": "80e78eaa",
   "metadata": {},
   "outputs": [],
   "source": [
    "opts= Options()\n",
    "opts.add_experimental_option('excludeSwitches', ['enable-automation'])\n",
    "opts.add_experimental_option('useAutomationExtension', False)\n",
    "opts.add_argument('--start-maximized') \n",
    "opts.add_argument('user.data-dir=selenium') \n",
    "#opts.add_argument('drive/adblock.crx') \n",
    "opts.add_argument('--incognito')"
   ]
  },
  {
   "cell_type": "code",
   "execution_count": 13,
   "id": "9e761d21",
   "metadata": {
    "collapsed": true
   },
   "outputs": [
    {
     "name": "stderr",
     "output_type": "stream",
     "text": [
      "\n",
      "\n",
      "====== WebDriver manager ======\n",
      "Current google-chrome version is 96.0.4664\n",
      "Get LATEST chromedriver version for 96.0.4664 google-chrome\n",
      "Driver [/Users/baccandres/.wdm/drivers/chromedriver/mac64/96.0.4664.45/chromedriver] found in cache\n",
      "/var/folders/xv/v29gqxhs4b5gth_lvdz9tgl80000gn/T/ipykernel_2727/1996998481.py:1: DeprecationWarning: executable_path has been deprecated, please pass in a Service object\n",
      "  driver = webdriver.Chrome(ChromeDriverManager().install())\n",
      "/var/folders/xv/v29gqxhs4b5gth_lvdz9tgl80000gn/T/ipykernel_2727/1996998481.py:6: DeprecationWarning: find_element_by_* commands are deprecated. Please use find_element() instead\n",
      "  driver.find_element_by_css_selector('#onetrust-accept-btn-handler').click()\n",
      "/var/folders/xv/v29gqxhs4b5gth_lvdz9tgl80000gn/T/ipykernel_2727/1996998481.py:13: DeprecationWarning: find_element_by_* commands are deprecated. Please use find_element() instead\n",
      "  tmp = driver.find_element_by_css_selector('#fittPageContainer > div:nth-child(4) > div > div > section > div > section > section > div.standings__table > div').get_attribute('outerHTML')\n"
     ]
    }
   ],
   "source": [
    "driver = webdriver.Chrome(ChromeDriverManager().install())\n",
    "driver.get('https://www.espn.com/soccer/standings/_/league/ita.1')\n",
    "driver.implicitly_wait(5)\n",
    "\n",
    "#accept cookies:\n",
    "driver.find_element_by_css_selector('#onetrust-accept-btn-handler').click()\n",
    "\n",
    "standings = []\n",
    "\n",
    "for i in range(2003, 2021):\n",
    "    try:\n",
    "        driver.get(f\"https://www.espn.com/soccer/standings/_/league/ITA.1/season/{i}\")\n",
    "        tmp = driver.find_element_by_css_selector('#fittPageContainer > div:nth-child(4) > div > div > section > div > section > section > div.standings__table > div').get_attribute('outerHTML')\n",
    "        standings.append(pd.read_html(tmp))\n",
    "    except:\n",
    "        standings.append('unavailable')"
   ]
  },
  {
   "cell_type": "code",
   "execution_count": 163,
   "id": "1c9a8105",
   "metadata": {},
   "outputs": [],
   "source": [
    "standings_dfs = []\n",
    "\n",
    "for i in range(len(standings)):\n",
    "    standings_dfs.append(pd.concat([standings[i][0], standings[0][1]], axis=1))"
   ]
  },
  {
   "cell_type": "code",
   "execution_count": 164,
   "id": "cd472f44",
   "metadata": {},
   "outputs": [],
   "source": [
    "for i in range(len(standings_dfs)):\n",
    "    for x in range(2003, 2021):\n",
    "        standings_dfs[i]['Campaign'] = standings_dfs[i].columns[0][:4]"
   ]
  },
  {
   "cell_type": "code",
   "execution_count": 165,
   "id": "e297d73b",
   "metadata": {},
   "outputs": [],
   "source": [
    "for i in range(len(standings_dfs)):\n",
    "    standings_dfs[i].columns = ['Teams', 'GP', 'W', 'D', 'L', 'F','A', 'GD', 'P', 'Campaign']"
   ]
  },
  {
   "cell_type": "code",
   "execution_count": 166,
   "id": "362397cf",
   "metadata": {},
   "outputs": [],
   "source": [
    "df_standings = pd.concat(standings_dfs)"
   ]
  },
  {
   "cell_type": "code",
   "execution_count": 167,
   "id": "277db9aa",
   "metadata": {},
   "outputs": [],
   "source": [
    "def acronym (x):\n",
    "    return \"\".join(re.split('[^a-zA-Z]*', x))[:3]"
   ]
  },
  {
   "cell_type": "code",
   "execution_count": 168,
   "id": "3e737b95",
   "metadata": {},
   "outputs": [],
   "source": [
    "df_standings['Teams'] = df_standings['Teams'].apply(acronym)"
   ]
  },
  {
   "cell_type": "code",
   "execution_count": 170,
   "id": "9cb2fef2",
   "metadata": {},
   "outputs": [
    {
     "data": {
      "text/html": [
       "<div>\n",
       "<style scoped>\n",
       "    .dataframe tbody tr th:only-of-type {\n",
       "        vertical-align: middle;\n",
       "    }\n",
       "\n",
       "    .dataframe tbody tr th {\n",
       "        vertical-align: top;\n",
       "    }\n",
       "\n",
       "    .dataframe thead th {\n",
       "        text-align: right;\n",
       "    }\n",
       "</style>\n",
       "<table border=\"1\" class=\"dataframe\">\n",
       "  <thead>\n",
       "    <tr style=\"text-align: right;\">\n",
       "      <th></th>\n",
       "      <th>Campaign</th>\n",
       "      <th>Teams</th>\n",
       "      <th>GP</th>\n",
       "      <th>W</th>\n",
       "      <th>D</th>\n",
       "      <th>L</th>\n",
       "      <th>F</th>\n",
       "      <th>A</th>\n",
       "      <th>GD</th>\n",
       "      <th>P</th>\n",
       "    </tr>\n",
       "  </thead>\n",
       "  <tbody>\n",
       "    <tr>\n",
       "      <th>124</th>\n",
       "      <td>2009</td>\n",
       "      <td>BOL</td>\n",
       "      <td>34.0</td>\n",
       "      <td>7.0</td>\n",
       "      <td>9.0</td>\n",
       "      <td>18.0</td>\n",
       "      <td>26.0</td>\n",
       "      <td>54.0</td>\n",
       "      <td>-28.0</td>\n",
       "      <td>30.0</td>\n",
       "    </tr>\n",
       "    <tr>\n",
       "      <th>49</th>\n",
       "      <td>2005</td>\n",
       "      <td>CAG</td>\n",
       "      <td>34.0</td>\n",
       "      <td>8.0</td>\n",
       "      <td>10.0</td>\n",
       "      <td>16.0</td>\n",
       "      <td>41.0</td>\n",
       "      <td>54.0</td>\n",
       "      <td>-13.0</td>\n",
       "      <td>34.0</td>\n",
       "    </tr>\n",
       "    <tr>\n",
       "      <th>276</th>\n",
       "      <td>2018</td>\n",
       "      <td>TOR</td>\n",
       "      <td>34.0</td>\n",
       "      <td>13.0</td>\n",
       "      <td>11.0</td>\n",
       "      <td>10.0</td>\n",
       "      <td>44.0</td>\n",
       "      <td>40.0</td>\n",
       "      <td>4.0</td>\n",
       "      <td>50.0</td>\n",
       "    </tr>\n",
       "  </tbody>\n",
       "</table>\n",
       "</div>"
      ],
      "text/plain": [
       "    Campaign Teams    GP     W     D     L     F     A    GD     P\n",
       "124     2009   BOL  34.0   7.0   9.0  18.0  26.0  54.0 -28.0  30.0\n",
       "49      2005   CAG  34.0   8.0  10.0  16.0  41.0  54.0 -13.0  34.0\n",
       "276     2018   TOR  34.0  13.0  11.0  10.0  44.0  40.0   4.0  50.0"
      ]
     },
     "execution_count": 170,
     "metadata": {},
     "output_type": "execute_result"
    }
   ],
   "source": [
    "df_standings = df_standings[['Campaign','Teams', 'GP', 'W', 'D', 'L', 'F','A', 'GD', 'P']]\n",
    "df_standings = df_standings.dropna().reset_index(drop=True)\n",
    "df_standings.sample(3)"
   ]
  },
  {
   "cell_type": "code",
   "execution_count": 171,
   "id": "bef5041f",
   "metadata": {},
   "outputs": [],
   "source": [
    "df_standings.to_csv('Standings.csv')"
   ]
  },
  {
   "cell_type": "code",
   "execution_count": null,
   "id": "a7a7efa3",
   "metadata": {},
   "outputs": [],
   "source": []
  }
 ],
 "metadata": {
  "kernelspec": {
   "display_name": "ironhack",
   "language": "python",
   "name": "ironhack"
  },
  "language_info": {
   "codemirror_mode": {
    "name": "ipython",
    "version": 3
   },
   "file_extension": ".py",
   "mimetype": "text/x-python",
   "name": "python",
   "nbconvert_exporter": "python",
   "pygments_lexer": "ipython3",
   "version": "3.9.7"
  }
 },
 "nbformat": 4,
 "nbformat_minor": 5
}
